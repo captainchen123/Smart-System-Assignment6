{
 "cells": [
  {
   "cell_type": "code",
   "execution_count": 1,
   "id": "ec7b70d0",
   "metadata": {},
   "outputs": [],
   "source": [
    "from chatterbot import ChatBot"
   ]
  },
  {
   "cell_type": "code",
   "execution_count": 2,
   "id": "890017c5",
   "metadata": {},
   "outputs": [
    {
     "name": "stderr",
     "output_type": "stream",
     "text": [
      "[nltk_data] Downloading package averaged_perceptron_tagger to\n",
      "[nltk_data]     /Users/chenchuanzhang/nltk_data...\n",
      "[nltk_data]   Package averaged_perceptron_tagger is already up-to-\n",
      "[nltk_data]       date!\n",
      "[nltk_data] Downloading package punkt to\n",
      "[nltk_data]     /Users/chenchuanzhang/nltk_data...\n",
      "[nltk_data]   Package punkt is already up-to-date!\n",
      "[nltk_data] Downloading package stopwords to\n",
      "[nltk_data]     /Users/chenchuanzhang/nltk_data...\n",
      "[nltk_data]   Package stopwords is already up-to-date!\n"
     ]
    }
   ],
   "source": [
    "botbot = ChatBot(\n",
    "    \"Bob\",\n",
    "    logic_adapters=[\n",
    "        \"chatterbot.logic.MathematicalEvaluation\",\n",
    "        \"chatterbot.logic.TimeLogicAdapter\"\n",
    "    ],\n",
    "    input_adapter=\"chatterbot.input.VariableInputTypeAdapter\",\n",
    "    output_adapter=\"chatterbot.output.OutputAdapter\",\n",
    ")"
   ]
  },
  {
   "cell_type": "code",
   "execution_count": 3,
   "id": "ab4d7ae3",
   "metadata": {},
   "outputs": [
    {
     "name": "stdout",
     "output_type": "stream",
     "text": [
      "Hi, My name is Bob\n",
      "You can ask me basic math problems and the time\n",
      "Please ask me some question: What time is it?\n",
      "Bob: The current time is 08:47 PM\n",
      "Please ask me some question: What is 8*234-234+354*2\n",
      "Bob: The current time is 08:47 PM\n",
      "Please ask me some question: What is 8 * 234 - 234 + 354 * 2\n",
      "Bob: 8 * 234 - 234 + 354 * 2 = 2346\n",
      "Please ask me some question: exit\n"
     ]
    }
   ],
   "source": [
    "print(\"Hi, My name is Bob\")\n",
    "print(\"You can ask me basic math problems and the time\")\n",
    "while True: \n",
    "        try: \n",
    "            bot_question = input(\"Please ask me some question: \") \n",
    "            if bot_question.strip()=='exit':\n",
    "                break\n",
    "            bot_respose = botbot.get_response(bot_question) \n",
    "            print(f\"Bob: {bot_respose}\") \n",
    " \n",
    "        except(KeyboardInterrupt, EOFError, SystemExit): \n",
    "            break "
   ]
  }
 ],
 "metadata": {
  "kernelspec": {
   "display_name": "Python 3 (ipykernel)",
   "language": "python",
   "name": "python3"
  },
  "language_info": {
   "codemirror_mode": {
    "name": "ipython",
    "version": 3
   },
   "file_extension": ".py",
   "mimetype": "text/x-python",
   "name": "python",
   "nbconvert_exporter": "python",
   "pygments_lexer": "ipython3",
   "version": "3.9.15"
  }
 },
 "nbformat": 4,
 "nbformat_minor": 5
}
